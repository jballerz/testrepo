{
 "cells": [
  {
   "cell_type": "markdown",
   "id": "12f86ba8",
   "metadata": {},
   "source": [
    "\n",
    "# Data Science Tools and Ecosystem\n"
   ]
  },
  {
   "cell_type": "markdown",
   "id": "99a997d4",
   "metadata": {},
   "source": [
    "## Author\n",
    "Jay Cayabyab"
   ]
  },
  {
   "cell_type": "markdown",
   "id": "50c848a3",
   "metadata": {},
   "source": [
    "In this notebook, Data Science Tools and Ecosystem are summarized."
   ]
  },
  {
   "cell_type": "markdown",
   "id": "85f8fb02",
   "metadata": {},
   "source": [
    "**Objectives**\n",
    "- List popular languages for data science\n",
    "- List commonly used libraries for data science\n",
    "- List data science tools"
   ]
  },
  {
   "cell_type": "markdown",
   "id": "afc3f6a2",
   "metadata": {},
   "source": [
    "Some of the popular languages that Data Scientists use are:\n",
    "1. Python\n",
    "1. R\n",
    "1. Scala\n"
   ]
  },
  {
   "cell_type": "markdown",
   "id": "5b7d077d",
   "metadata": {},
   "source": [
    "Some of libraries commonly used by Data Scientists include:\n",
    "1. Pandas\n",
    "1. TensorFlow\n",
    "1. Lattice"
   ]
  },
  {
   "cell_type": "markdown",
   "id": "28ae4eec",
   "metadata": {},
   "source": [
    "| **Data Science Tools** |\n",
    "| :---: |\n",
    "| JupyterLab |\n",
    "| Jupyter Notebook |\n",
    "| R Studio |\n"
   ]
  },
  {
   "cell_type": "markdown",
   "id": "038dca1a",
   "metadata": {},
   "source": [
    "\n",
    "### Examples of evaluating arithmetic expressions in Python\n"
   ]
  },
  {
   "cell_type": "code",
   "execution_count": 1,
   "id": "bb682a0d",
   "metadata": {},
   "outputs": [
    {
     "data": {
      "text/plain": [
       "17"
      ]
     },
     "execution_count": 1,
     "metadata": {},
     "output_type": "execute_result"
    }
   ],
   "source": [
    "# A simple arithmetic expression to multiply then add numbers\n",
    "(3*4)+5"
   ]
  },
  {
   "cell_type": "code",
   "execution_count": 2,
   "id": "dac40c8c",
   "metadata": {},
   "outputs": [
    {
     "data": {
      "text/plain": [
       "3.3333333333333335"
      ]
     },
     "execution_count": 2,
     "metadata": {},
     "output_type": "execute_result"
    }
   ],
   "source": [
    "# This will convert 200 minutes to hours by dividing by 60\n",
    "200/60"
   ]
  }
 ],
 "metadata": {
  "kernelspec": {
   "display_name": "Python 3 (ipykernel)",
   "language": "python",
   "name": "python3"
  },
  "language_info": {
   "codemirror_mode": {
    "name": "ipython",
    "version": 3
   },
   "file_extension": ".py",
   "mimetype": "text/x-python",
   "name": "python",
   "nbconvert_exporter": "python",
   "pygments_lexer": "ipython3",
   "version": "3.8.2"
  }
 },
 "nbformat": 4,
 "nbformat_minor": 5
}
